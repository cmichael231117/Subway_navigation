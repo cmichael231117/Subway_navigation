{
  "nbformat": 4,
  "nbformat_minor": 0,
  "metadata": {
    "colab": {
      "name": "ossppl_project_v2.ipynb",
      "provenance": [],
      "collapsed_sections": [
        "NUD-hySm_uPc"
      ],
      "toc_visible": true
    },
    "kernelspec": {
      "name": "python373jvsc74a57bd05edc29c2ed010d6458d71a83433b383a96a8cbd3efe8531bc90c4b8a5b8bcec9",
      "display_name": "Python 3.7.3 64-bit ('usr')"
    },
    "metadata": {
      "interpreter": {
        "hash": "5edc29c2ed010d6458d71a83433b383a96a8cbd3efe8531bc90c4b8a5b8bcec9"
      }
    }
  },
  "cells": [
    {
      "cell_type": "markdown",
      "metadata": {
        "id": "NUD-hySm_uPc"
      },
      "source": [
        "# **Open Source SW and Python Programming Project: Implementation of Subway Navigation**\n",
        "\n",
        "In this project, you will implement a navigation system for Seoul subway stations, especially **step by step**\n",
        "\n",
        "\n"
      ]
    },
    {
      "cell_type": "markdown",
      "metadata": {
        "id": "uUsnepoeAhVl"
      },
      "source": [
        "# 0. Initialization\n",
        "\n",
        "Read subway station information by reading the file **simplified_subway_info.xlsx**\n",
        "*  The excel file contains subway station information of Seoul subway line 1 ~ 4\n",
        "*  When you execute this sourcecode, you MUST upload these files in your Colab runtime environment\n",
        "*   **MUST NOT** change this Initialization code cell"
      ]
    },
    {
      "cell_type": "code",
      "metadata": {
        "id": "qnbOlA6o_mIl"
      },
      "source": [
        "import xlrd\n",
        "\n",
        "# Read data file\n",
        "data = xlrd.open_workbook(\"simplified_subway_info.xlsx\")\n",
        "data = data.sheet_by_name('Sheet1')\n",
        "\n",
        "# Store the loaded book object as a string list in subwayStation variable\n",
        "subwayStation = []\n",
        "for line in range(4) :\n",
        "    cur = [x for x in data.col_values(line) if x]    \n",
        "    subwayStation.append(cur[1:])"
      ],
      "execution_count": 1,
      "outputs": []
    },
    {
      "cell_type": "markdown",
      "metadata": {
        "id": "DBXU61Tn_vKS"
      },
      "source": [
        "# 1. Your implementation\n",
        "Let's start the implementation of a subway naviation system by using the loaded subway station information :)\n",
        "\n",
        "*   You can access the subway station information by referring to **subwayStation** variable (list type)"
      ]
    },
    {
      "cell_type": "markdown",
      "metadata": {
        "id": "7iBRonsaDrz6"
      },
      "source": [
        "# Git commands\n",
        "- git pull origin\n",
        "- git status\n",
        "- git add <filename/path>\n",
        "- git commit -m '~~'\n",
        "- git push origin"
      ]
    },
    {
      "cell_type": "code",
      "metadata": {
        "id": "7h-scy6AI8Re",
        "colab": {
          "base_uri": "https://localhost:8080/"
        },
        "outputId": "7adc52db-d53d-4535-9d05-2238edd86c3c"
      },
      "source": [
        "'''\n",
        "This is an example code for showing how to use the loaded data.\n",
        "You can remove this code.\n",
        "'''\n",
        "for i in range(4) :\n",
        "    print(subwayStation[i]) # subwayStation[i] contatins the (i + 1)-th subway line information\n"
      ],
      "execution_count": 2,
      "outputs": [
        {
          "output_type": "stream",
          "text": [
            "['소요산', '동두천', '보산', '동두천중앙', '지행', '덕정', '덕계', '양주', '녹양', '가능', '의정부', '회룡', '망월사', '도봉산', '도봉', '방학', '창동', '녹천', '월계', '광운대', '석계', '신이문', '외대앞', '회기', '청량리', '제기동', '신설동', '동묘앞', '동대문', '종로5가', '종로3가', '종각', '시청', '서울역', '남영', '용산', '노량진', '대방', '신길', '영등포', '신도림', '구로', '구일', '개봉', '오류동', '온수', '역곡', '소사', '부천', '중동', '송내', '부개', '부평', '백운', '동암', '간석', '주안', '도화', '제물포', '도원', '동인천', '인천']\n",
            "['신도림', '대림', '구로디지털단지', '신대방', '신림', '봉천', '서울대입구', '낙성대', '사당', '방배', '서초', '교대', '강남', '역삼', '선릉', '삼성', '종합운동장', '잠실새내', '잠실', '잠실나루', '강변', '구의', '건대입구', '성수', '뚝섬', '한양대', '왕십리', '상왕십리', '신당', '동대문역사문화공원', '을지로4가', '을지로3가', '을지로입구', '시청', '충정로', '아현', '이대', '신촌', '홍대입구', '합정', '당산', '영등포구청', '문래']\n",
            "['대화', '주엽', '정발산', '마두', '백석', '대곡', '화정', '원당', '원흥', '삼송', '지축', '구파발', '연신내', '불광', '녹번', '홍제', '무악재', '독립문', '경복궁', '안국', '종로3가', '을지로3가', '충무로', '동대입구', '약수', '금호', '옥수', '압구정', '신사', '잠원', '고속터미널', '교대', '남부터미널', '양재', '매봉', '도곡', '대치', '학여울', '대청', '일원', '수서', '가락시장', '경찰병원', '오금']\n",
            "['당고개', '상계', '노원', '창동', '쌍문', '수유', '미아', '미아사거리', '길음', '성신여대입구', '한성대입구', '혜화', '동대문', '동대문역사문화공원', '충무로', '명동', '회현', '서울역', '숙대입구', '삼각지', '신용산', '이촌', '동작', '총신대입구', '사당', '남태령', '선바위', '경마공원', '대공원', '과천', '정부과천청사', '인덕원', '평촌', '범계', '금정', '산본', '수리산', '대야미', '반월', '상록수', '한대앞', '중앙', '고잔', '초지', '안산', '신길온천', '정왕', '오이도']\n"
          ],
          "name": "stdout"
        }
      ]
    },
    {
      "cell_type": "code",
      "metadata": {
        "colab": {
          "base_uri": "https://localhost:8080/"
        },
        "id": "B0222pQTDrz7",
        "outputId": "2d5faca5-58e7-4ca9-c3a9-602914113d54"
      },
      "source": [
        "'''\n",
        "Store data in dictionaty\n",
        "'''\n",
        "temp_dic = {}\n",
        "for i in range(4):\n",
        "    if i == 0:\n",
        "        temp_dic['Line1'] = tuple(subwayStation[i])\n",
        "    if i == 1:\n",
        "        temp_dic['Line2'] = tuple(subwayStation[i])\n",
        "    if i == 2:\n",
        "        temp_dic['Line3'] = tuple(subwayStation[i])\n",
        "    if i == 3:\n",
        "        temp_dic['Line4'] = tuple(subwayStation[i])\n",
        "subwayStation = temp_dic\n",
        "#print(subwayStation)\n",
        "for key in subwayStation.keys():\n",
        "  print(key)\n",
        "for value in subwayStation.values():\n",
        "  print(value)"
      ],
      "execution_count": 3,
      "outputs": [
        {
          "output_type": "stream",
          "text": [
            "Line1\n",
            "Line2\n",
            "Line3\n",
            "Line4\n",
            "('소요산', '동두천', '보산', '동두천중앙', '지행', '덕정', '덕계', '양주', '녹양', '가능', '의정부', '회룡', '망월사', '도봉산', '도봉', '방학', '창동', '녹천', '월계', '광운대', '석계', '신이문', '외대앞', '회기', '청량리', '제기동', '신설동', '동묘앞', '동대문', '종로5가', '종로3가', '종각', '시청', '서울역', '남영', '용산', '노량진', '대방', '신길', '영등포', '신도림', '구로', '구일', '개봉', '오류동', '온수', '역곡', '소사', '부천', '중동', '송내', '부개', '부평', '백운', '동암', '간석', '주안', '도화', '제물포', '도원', '동인천', '인천')\n",
            "('신도림', '대림', '구로디지털단지', '신대방', '신림', '봉천', '서울대입구', '낙성대', '사당', '방배', '서초', '교대', '강남', '역삼', '선릉', '삼성', '종합운동장', '잠실새내', '잠실', '잠실나루', '강변', '구의', '건대입구', '성수', '뚝섬', '한양대', '왕십리', '상왕십리', '신당', '동대문역사문화공원', '을지로4가', '을지로3가', '을지로입구', '시청', '충정로', '아현', '이대', '신촌', '홍대입구', '합정', '당산', '영등포구청', '문래')\n",
            "('대화', '주엽', '정발산', '마두', '백석', '대곡', '화정', '원당', '원흥', '삼송', '지축', '구파발', '연신내', '불광', '녹번', '홍제', '무악재', '독립문', '경복궁', '안국', '종로3가', '을지로3가', '충무로', '동대입구', '약수', '금호', '옥수', '압구정', '신사', '잠원', '고속터미널', '교대', '남부터미널', '양재', '매봉', '도곡', '대치', '학여울', '대청', '일원', '수서', '가락시장', '경찰병원', '오금')\n",
            "('당고개', '상계', '노원', '창동', '쌍문', '수유', '미아', '미아사거리', '길음', '성신여대입구', '한성대입구', '혜화', '동대문', '동대문역사문화공원', '충무로', '명동', '회현', '서울역', '숙대입구', '삼각지', '신용산', '이촌', '동작', '총신대입구', '사당', '남태령', '선바위', '경마공원', '대공원', '과천', '정부과천청사', '인덕원', '평촌', '범계', '금정', '산본', '수리산', '대야미', '반월', '상록수', '한대앞', '중앙', '고잔', '초지', '안산', '신길온천', '정왕', '오이도')\n"
          ],
          "name": "stdout"
        }
      ]
    },
    {
      "cell_type": "code",
      "metadata": {
        "colab": {
          "base_uri": "https://localhost:8080/"
        },
        "id": "SBdhDPvXHUhg",
        "outputId": "bf8bbadb-f862-4970-a0ed-a0d71b53e4e9"
      },
      "source": [
        "lines = list(subwayStation.keys())\n",
        "\n",
        "lineNum = 2\n",
        "print(subwayStation[lines[lineNum-1]])\n",
        "\n",
        "set1 = set(subwayStation[lines[0]])\n",
        "set2 = set(subwayStation[lines[1]])\n",
        "set3 = set(subwayStation[lines[2]])\n",
        "set4 = set(subwayStation[lines[3]])\n",
        "\n",
        "print(set1.intersection(set2))\n",
        "print(set1.intersection(set3))\n",
        "print(set1.intersection(set4))\n",
        "\n",
        "print(set2.intersection(set3))\n",
        "print(set2.intersection(set4))\n",
        "\n",
        "print(set3.intersection(set4))\n",
        "#모든 호선들은 서로 연결되어 있어 복잡한 경우는 고려하지 않아도 된다. 복잡한 경우 예) 두번 환승해야 하는 경우."
      ],
      "execution_count": 4,
      "outputs": [
        {
          "output_type": "stream",
          "text": [
            "('신도림', '대림', '구로디지털단지', '신대방', '신림', '봉천', '서울대입구', '낙성대', '사당', '방배', '서초', '교대', '강남', '역삼', '선릉', '삼성', '종합운동장', '잠실새내', '잠실', '잠실나루', '강변', '구의', '건대입구', '성수', '뚝섬', '한양대', '왕십리', '상왕십리', '신당', '동대문역사문화공원', '을지로4가', '을지로3가', '을지로입구', '시청', '충정로', '아현', '이대', '신촌', '홍대입구', '합정', '당산', '영등포구청', '문래')\n",
            "{'시청', '신도림'}\n",
            "{'종로3가'}\n",
            "{'창동', '동대문', '서울역'}\n",
            "{'을지로3가', '교대'}\n",
            "{'동대문역사문화공원', '사당'}\n",
            "{'충무로'}\n"
          ],
          "name": "stdout"
        }
      ]
    },
    {
      "cell_type": "code",
      "metadata": {
        "colab": {
          "base_uri": "https://localhost:8080/"
        },
        "id": "jk-mLdG4Drz7",
        "outputId": "d2a25143-8359-41e7-95b8-f9841577d5d8"
      },
      "source": [
        "def console():\n",
        "    print(\"*************************************************\")\n",
        "    print(\"1. Display subway line information (Line 1 ~ 4)\")\n",
        "    print(\"2. Display subway station information\")\n",
        "    print(\"3. Find a path between two subway satations\")\n",
        "    print(\"4. Exit\")\n",
        "    print(\"*************************************************\")\n",
        "\n",
        "def dispSubwayLineInfo():\n",
        "    print(\"*************************************************\")\n",
        "    print(\"Subway line information service\")\n",
        "    print(\"*************************************************\")\n",
        "    lineNum = int(input(\">> Please enter a subway line number (1 - 4):\"))\n",
        "    lines = list(subwayStation.keys())\n",
        "    while lineNum not in [1, 2, 3, 4]:\n",
        "        lineNum = int(input(\">> Please enter a subway line number (1 - 4):\"))\n",
        "    #print(subwayStation[lineNum - 1])\n",
        "    print(subwayStation[lines[lineNum-1]])\n",
        "\n",
        "def dispSubwatStationInfo():\n",
        "    print(\"*************************************************\")\n",
        "    print(\"Subway station information service\")\n",
        "    print(\"*************************************************\")\n",
        "    again = True\n",
        "    printFirst = True\n",
        "    lines = list(subwayStation.keys())\n",
        "    while again:\n",
        "        stationName = input(\">> Please enter a subway station name:\")\n",
        "        for i in range(4):\n",
        "            if stationName in subwayStation[lines[i]]:\n",
        "                if printFirst:\n",
        "                    print(stationName, \"station is in Line\", i+1, end=' ')\n",
        "                    printFirst = False\n",
        "                else:\n",
        "                    print(\"and\", i+1, end=' ')\n",
        "                again = False\n",
        "            else:\n",
        "                print(\"Please enter a valid subeay station name\")\n",
        "    print()\n",
        "\n",
        "def findPath():\n",
        "    lines = list(subwayStation.keys())\n",
        "    startLine = set()\n",
        "    endLine = set()\n",
        "    again = True\n",
        "    while again:\n",
        "        startStation = input(\">> Please enter a start station name:\")\n",
        "        for i in range(4):\n",
        "            if startStation in subwayStation[lines[i]]:\n",
        "                startLine.add(lines[i])\n",
        "                again = False\n",
        "            #else:\n",
        "                #print(\"Please enter a valid subeay station name\")\n",
        "                #continue\n",
        "    again = True\n",
        "    while again:\n",
        "        endStation = input(\">> Please enter a end station name:\")\n",
        "        for i in range(4):\n",
        "            if endStation in subwayStation[lines[i]]:\n",
        "                endLine.add(lines[i])\n",
        "                again = False\n",
        "            #else:\n",
        "                #print(\"Please enter a valid subeay station name\")\n",
        "                #continue\n",
        "\n",
        "    if not(startLine.isdisjoint(endLine)):\n",
        "        choosedLine = list(startLine.intersection(endLine))[0]\n",
        "        print(choosedLine, \"이용!\")\n",
        "        startIdx = subwayStation[choosedLine].index(startStation)\n",
        "        endIdx = subwayStation[choosedLine].index(endStation)\n",
        "        if startIdx < endIdx:\n",
        "            print(subwayStation[choosedLine][startIdx:endIdx+1])\n",
        "        elif startIdx > endIdx:\n",
        "            if endIdx == 0:\n",
        "                print(subwayStation[choosedLine][startIdx::-1])\n",
        "            else:\n",
        "                print(subwayStation[choosedLine][startIdx:endIdx-1:-1])\n",
        "        else:\n",
        "            print(\"You entered same station!\")\n",
        "    else:\n",
        "        transferStation = set(subwayStation[list(startLine)[0]]).intersection(set(subwayStation[list(endLine)[0]]))\n",
        "        transferStation = list(transferStation)[0]\n",
        "\n",
        "        #환승하기 전의 경로\n",
        "        choosedLine = list(startLine)[0]\n",
        "        print(choosedLine, \"이용!\")\n",
        "        startIdx = subwayStation[choosedLine].index(startStation)\n",
        "        endIdx = subwayStation[choosedLine].index(transferStation)\n",
        "        if startIdx < endIdx:\n",
        "            print(subwayStation[choosedLine][startIdx:endIdx+1])\n",
        "        elif startIdx > endIdx:\n",
        "            if endIdx == 0:\n",
        "                print(subwayStation[choosedLine][startIdx::-1])\n",
        "            else:\n",
        "                print(subwayStation[choosedLine][startIdx:endIdx-1:-1])\n",
        "\n",
        "        print(transferStation+\"에서 환승!\")\n",
        "\n",
        "        #환승한 후의 경로\n",
        "        choosedLine = list(endLine)[0]\n",
        "        print(choosedLine, \"이용!\")\n",
        "        startIdx = subwayStation[choosedLine].index(transferStation)\n",
        "        endIdx = subwayStation[choosedLine].index(endStation)\n",
        "        if startIdx < endIdx:\n",
        "            print(subwayStation[choosedLine][startIdx:endIdx+1])\n",
        "        elif startIdx > endIdx:\n",
        "            if endIdx == 0:\n",
        "                print(subwayStation[choosedLine][startIdx::-1])\n",
        "            else:\n",
        "                print(subwayStation[choosedLine][startIdx:endIdx-1:-1])\n",
        "\n",
        "            \n",
        "\n",
        "    \n",
        "\n",
        "while True:\n",
        "    console()\n",
        "    option = int(input(\"Please choose one of the options (1 - 4):\"))\n",
        "    print()\n",
        "    if option == 1:\n",
        "        dispSubwayLineInfo()\n",
        "    elif option == 2:\n",
        "        dispSubwatStationInfo()\n",
        "    elif option == 3:\n",
        "        findPath()\n",
        "    elif option == 4:\n",
        "        print(\"bye~\")\n",
        "        break\n",
        "    else:\n",
        "        print(\"Please enter a valid option number\")\n",
        "        continue\n",
        "    print()\n",
        "\n",
        "#exit()\n"
      ],
      "execution_count": 15,
      "outputs": [
        {
          "output_type": "stream",
          "text": [
            "*************************************************\n",
            "1. Display subway line information (Line 1 ~ 4)\n",
            "2. Display subway station information\n",
            "3. Find a path between two subway satations\n",
            "4. Exit\n",
            "*************************************************\n",
            "Please choose one of the options (1 - 4):3\n",
            "\n",
            ">> Please enter a start station name:대림\n",
            ">> Please enter a end station name:소요산\n",
            "Line2 이용!\n",
            "('대림', '구로디지털단지', '신대방', '신림', '봉천', '서울대입구', '낙성대', '사당', '방배', '서초', '교대', '강남', '역삼', '선릉', '삼성', '종합운동장', '잠실새내', '잠실', '잠실나루', '강변', '구의', '건대입구', '성수', '뚝섬', '한양대', '왕십리', '상왕십리', '신당', '동대문역사문화공원', '을지로4가', '을지로3가', '을지로입구', '시청')\n",
            "시청에서 환승!\n",
            "Line1 이용!\n",
            "('시청', '종각', '종로3가', '종로5가', '동대문', '동묘앞', '신설동', '제기동', '청량리', '회기', '외대앞', '신이문', '석계', '광운대', '월계', '녹천', '창동', '방학', '도봉', '도봉산', '망월사', '회룡', '의정부', '가능', '녹양', '양주', '덕계', '덕정', '지행', '동두천중앙', '보산', '동두천', '소요산')\n",
            "\n",
            "*************************************************\n",
            "1. Display subway line information (Line 1 ~ 4)\n",
            "2. Display subway station information\n",
            "3. Find a path between two subway satations\n",
            "4. Exit\n",
            "*************************************************\n",
            "Please choose one of the options (1 - 4):3\n",
            "\n",
            ">> Please enter a start station name:서울역\n",
            ">> Please enter a end station name:소요산\n",
            "Line1 이용!\n",
            "('서울역', '시청', '종각', '종로3가', '종로5가', '동대문', '동묘앞', '신설동', '제기동', '청량리', '회기', '외대앞', '신이문', '석계', '광운대', '월계', '녹천', '창동', '방학', '도봉', '도봉산', '망월사', '회룡', '의정부', '가능', '녹양', '양주', '덕계', '덕정', '지행', '동두천중앙', '보산', '동두천', '소요산')\n",
            "\n",
            "*************************************************\n",
            "1. Display subway line information (Line 1 ~ 4)\n",
            "2. Display subway station information\n",
            "3. Find a path between two subway satations\n",
            "4. Exit\n",
            "*************************************************\n",
            "Please choose one of the options (1 - 4):4\n",
            "\n",
            "bye~\n"
          ],
          "name": "stdout"
        }
      ]
    },
    {
      "cell_type": "code",
      "metadata": {
        "id": "kQkAAbgbDrz8"
      },
      "source": [
        ""
      ],
      "execution_count": null,
      "outputs": []
    }
  ]
}