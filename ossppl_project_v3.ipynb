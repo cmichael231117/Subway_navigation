{
  "nbformat": 4,
  "nbformat_minor": 0,
  "metadata": {
    "colab": {
      "name": "ossppl_project_v3.ipynb",
      "provenance": [],
      "collapsed_sections": [
        "NUD-hySm_uPc"
      ]
    },
    "kernelspec": {
      "name": "python373jvsc74a57bd05edc29c2ed010d6458d71a83433b383a96a8cbd3efe8531bc90c4b8a5b8bcec9",
      "display_name": "Python 3.7.3 64-bit ('usr')"
    },
    "metadata": {
      "interpreter": {
        "hash": "5edc29c2ed010d6458d71a83433b383a96a8cbd3efe8531bc90c4b8a5b8bcec9"
      }
    }
  },
  "cells": [
    {
      "cell_type": "markdown",
      "metadata": {
        "id": "NUD-hySm_uPc"
      },
      "source": [
        "# **Open Source SW and Python Programming Project: Implementation of Subway Navigation**\n",
        "\n",
        "In this project, you will implement a navigation system for Seoul subway stations, especially **step by step**\n",
        "\n",
        "\n"
      ]
    },
    {
      "cell_type": "markdown",
      "metadata": {
        "id": "uUsnepoeAhVl"
      },
      "source": [
        "# 0. Initialization\n",
        "\n",
        "Read subway station information by reading the file **simplified_subway_info.xlsx**\n",
        "*  The excel file contains subway station information of Seoul subway line 1 ~ 4\n",
        "*  When you execute this sourcecode, you MUST upload these files in your Colab runtime environment\n",
        "*   **MUST NOT** change this Initialization code cell"
      ]
    },
    {
      "cell_type": "code",
      "metadata": {
        "id": "qnbOlA6o_mIl"
      },
      "source": [
        "import xlrd\n",
        "\n",
        "# Read data file\n",
        "data = xlrd.open_workbook(\"simplified_subway_info.xlsx\")\n",
        "data = data.sheet_by_name('Sheet1')\n",
        "\n",
        "# Store the loaded book object as a string list in subwayStation variable\n",
        "subwayStation = []\n",
        "for line in range(4) :\n",
        "    cur = [x for x in data.col_values(line) if x]    \n",
        "    subwayStation.append(cur[1:])"
      ],
      "execution_count": 1,
      "outputs": []
    },
    {
      "cell_type": "markdown",
      "metadata": {
        "id": "DBXU61Tn_vKS"
      },
      "source": [
        "# 1. Your implementation\n",
        "Let's start the implementation of a subway naviation system by using the loaded subway station information :)\n",
        "\n",
        "*   You can access the subway station information by referring to **subwayStation** variable (list type)"
      ]
    },
    {
      "cell_type": "markdown",
      "metadata": {
        "id": "7iBRonsaDrz6"
      },
      "source": [
        "# Git commands\n",
        "- git pull origin\n",
        "- git status\n",
        "- git add <filename/path>\n",
        "- git commit -m '~~'\n",
        "- git push origin"
      ]
    },
    {
      "cell_type": "code",
      "metadata": {
        "id": "8BD_veeAaWnz"
      },
      "source": [
        "class subwayLine:\n",
        "    def __init__(self, stations):\n",
        "        self.stations = stations\n",
        "\n",
        "    def __str__(self):\n",
        "        return str(self.stations)\n",
        "\n",
        "    def __and__(self, other):\n",
        "        self_set = set(self.stations)\n",
        "        other_set = set(other.stations)\n",
        "        common_stations = self_set.intersection(other_set)\n",
        "        return tuple(common_stations)\n",
        "\n",
        "    def __contains__(self, station):\n",
        "        if station in self.stations:\n",
        "            return True\n",
        "        else:\n",
        "            return False\n",
        "\n",
        "    def getPath(self, dpt, dst):\n",
        "        if dpt in self.stations and dst in self.stations:\n",
        "            path = []\n",
        "            startIdx = self.stations.index(dpt)\n",
        "            endIdx = self.stations.index(dst)\n",
        "            if startIdx < endIdx:\n",
        "                return self.stations[startIdx:endIdx+1]\n",
        "            elif startIdx > endIdx:\n",
        "                if endIdx == 0:\n",
        "                    return self.stations[startIdx::-1]\n",
        "                else:\n",
        "                    return self.stations[startIdx:endIdx-1:-1]\n",
        "            else:\n",
        "                return \"You entered the same station!\"\n",
        "        else:\n",
        "            return None"
      ],
      "execution_count": 3,
      "outputs": []
    },
    {
      "cell_type": "code",
      "metadata": {
        "id": "B0222pQTDrz7"
      },
      "source": [
        "'''\n",
        "Store data in dictionaty\n",
        "'''\n",
        "keys = ['Line1', 'Line2', 'Line3', 'Line4']\n",
        "values = subwayStation\n",
        "subwayStation = {}\n",
        "for line, stations in zip(keys, values):\n",
        "    subwayStation[line] = subwayLine(tuple(stations))"
      ],
      "execution_count": 4,
      "outputs": []
    },
    {
      "cell_type": "code",
      "metadata": {
        "colab": {
          "base_uri": "https://localhost:8080/"
        },
        "id": "jk-mLdG4Drz7",
        "outputId": "fcff4cb9-fc54-4877-ff56-d5cd423f75c1"
      },
      "source": [
        "def console():\n",
        "    print(\"*************************************************\")\n",
        "    print(\"1. Display subway line information (Line 1 ~ 4)\")\n",
        "    print(\"2. Display subway station information\")\n",
        "    print(\"3. Find a path between two subway satations\")\n",
        "    print(\"4. Exit\")\n",
        "    print(\"*************************************************\")\n",
        "\n",
        "def dispSubwayLineInfo():\n",
        "    print(\"*************************************************\")\n",
        "    print(\"Subway line information service\")\n",
        "    print(\"*************************************************\")\n",
        "    lineNum = int(input(\">> Please enter a subway line number (1 - 4):\"))\n",
        "    lines = list(subwayStation.keys())\n",
        "    while lineNum not in [1, 2, 3, 4]:\n",
        "        lineNum = int(input(\">> Please enter a subway line number (1 - 4):\"))\n",
        "    print(subwayStation[lines[lineNum-1]].stations)\n",
        "\n",
        "def dispSubwayStationInfo():\n",
        "    print(\"*************************************************\")\n",
        "    print(\"Subway station information service\")\n",
        "    print(\"*************************************************\")\n",
        "    again = True\n",
        "    printFirst = True\n",
        "    lines = list(subwayStation.keys())\n",
        "    while again:\n",
        "        stationName = input(\">> Please enter a subway station name:\")\n",
        "        for i in range(4):\n",
        "            if stationName in subwayStation[lines[i]]:\n",
        "                if printFirst:\n",
        "                    print(stationName, \"station is in Line\", i+1, end=' ')\n",
        "                    printFirst = False\n",
        "                else:\n",
        "                    print(\"and\", i+1, end=' ')\n",
        "                again = False\n",
        "        if again:\n",
        "            print(\"Please enter a valid subeay station name\")\n",
        "    print()\n",
        "\n",
        "def findPath():\n",
        "    lines = list(subwayStation.keys())\n",
        "    startLine = set()\n",
        "    endLine = set()\n",
        "    #get dpt station\n",
        "    again = True\n",
        "    while again:\n",
        "        startStation = input(\">> Please enter a department station name:\")\n",
        "        for i in range(4):\n",
        "            if startStation in subwayStation[lines[i]]:\n",
        "                startLine.add(lines[i])\n",
        "                again = False\n",
        "        if again:\n",
        "            print(\"Please enter a valid subeay station name\")\n",
        "    #get dst station\n",
        "    again = True\n",
        "    while again:\n",
        "        endStation = input(\">> Please enter a destination station name:\")\n",
        "        for i in range(4):\n",
        "            if endStation in subwayStation[lines[i]]:\n",
        "                endLine.add(lines[i])\n",
        "                again = False\n",
        "        if again:\n",
        "            print(\"Please enter a valid subway station name\")\n",
        "\n",
        "    if not(startLine.isdisjoint(endLine)):\n",
        "        choosedLine = list(startLine.intersection(endLine))[0]\n",
        "        print(choosedLine, \"이용!\")\n",
        "        print(subwayStation[choosedLine].getPath(startStation, endStation))\n",
        "    else:\n",
        "        transferStation = set(subwayStation[list(startLine)[0]].stations).intersection(set(subwayStation[list(endLine)[0]].stations))\n",
        "        transferStation = list(transferStation)[0]\n",
        "\n",
        "        #환승하기 전의 경로\n",
        "        choosedLine = list(startLine)[0]\n",
        "        print(choosedLine, \"이용!\")\n",
        "        print(subwayStation[choosedLine].getPath(startStation, transferStation))\n",
        "\n",
        "        print(transferStation+\"에서 환승!\")\n",
        "\n",
        "        #환승한 후의 경로\n",
        "        choosedLine = list(endLine)[0]\n",
        "        print(choosedLine, \"이용!\")\n",
        "        print(subwayStation[choosedLine].getPath(transferStation, endStation))\n",
        "\n",
        "while True:\n",
        "    console()\n",
        "    option = int(input(\"Please choose one of the options (1 - 4):\"))\n",
        "    print()\n",
        "    if option == 1:\n",
        "        dispSubwayLineInfo()\n",
        "    elif option == 2:\n",
        "        dispSubwayStationInfo()\n",
        "    elif option == 3:\n",
        "        findPath()\n",
        "    elif option == 4:\n",
        "        print(\"bye~\")\n",
        "        break\n",
        "    else:\n",
        "        print(\"Please enter a valid option number\")\n",
        "        continue\n",
        "    print()"
      ],
      "execution_count": 9,
      "outputs": [
        {
          "output_type": "stream",
          "text": [
            "*************************************************\n",
            "1. Display subway line information (Line 1 ~ 4)\n",
            "2. Display subway station information\n",
            "3. Find a path between two subway satations\n",
            "4. Exit\n",
            "*************************************************\n",
            "Please choose one of the options (1 - 4):2\n",
            "\n",
            "*************************************************\n",
            "Subway station information service\n",
            "*************************************************\n",
            ">> Please enter a subway station name:서울역\n",
            "서울역 station is in Line 1 and 4 \n",
            "\n",
            "*************************************************\n",
            "1. Display subway line information (Line 1 ~ 4)\n",
            "2. Display subway station information\n",
            "3. Find a path between two subway satations\n",
            "4. Exit\n",
            "*************************************************\n",
            "Please choose one of the options (1 - 4):4\n",
            "\n",
            "bye~\n"
          ],
          "name": "stdout"
        }
      ]
    },
    {
      "cell_type": "code",
      "metadata": {
        "id": "kQkAAbgbDrz8"
      },
      "source": [],
      "execution_count": null,
      "outputs": []
    }
  ]
}